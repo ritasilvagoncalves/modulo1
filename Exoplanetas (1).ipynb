{
  "nbformat": 4,
  "nbformat_minor": 0,
  "metadata": {
    "colab": {
      "provenance": []
    },
    "kernelspec": {
      "name": "python3",
      "display_name": "Python 3"
    },
    "language_info": {
      "name": "python"
    }
  },
  "cells": [
    {
      "cell_type": "code",
      "execution_count": null,
      "metadata": {
        "colab": {
          "base_uri": "https://localhost:8080/"
        },
        "id": "tkkhXk7Y1O6Z",
        "outputId": "1b28f181-7a31-4408-ddf6-07f9bae9d7dc"
      },
      "outputs": [
        {
          "output_type": "stream",
          "name": "stdout",
          "text": [
            "Requirement already satisfied: openpyxl in /usr/local/lib/python3.10/dist-packages (3.1.5)\n",
            "Requirement already satisfied: et-xmlfile in /usr/local/lib/python3.10/dist-packages (from openpyxl) (1.1.0)\n"
          ]
        }
      ],
      "source": [
        "!pip install openpyxl\n",
        "import pandas as pd\n",
        "from sklearn.preprocessing import StandardScaler\n",
        "import seaborn as sns\n",
        "import matplotlib.pyplot as plt\n",
        "from google.colab import files"
      ]
    },
    {
      "cell_type": "code",
      "source": [
        "# Upload do arquivo\n",
        "uploaded = files.upload()"
      ],
      "metadata": {
        "colab": {
          "base_uri": "https://localhost:8080/",
          "height": 90
        },
        "id": "T-FowrQN1Xjf",
        "outputId": "58151c11-3f3d-4e13-d87c-4d690295158d"
      },
      "execution_count": null,
      "outputs": [
        {
          "output_type": "display_data",
          "data": {
            "text/plain": [
              "<IPython.core.display.HTML object>"
            ],
            "text/html": [
              "\n",
              "     <input type=\"file\" id=\"files-d619a285-5c76-4ad8-964b-b8930f341886\" name=\"files[]\" multiple disabled\n",
              "        style=\"border:none\" />\n",
              "     <output id=\"result-d619a285-5c76-4ad8-964b-b8930f341886\">\n",
              "      Upload widget is only available when the cell has been executed in the\n",
              "      current browser session. Please rerun this cell to enable.\n",
              "      </output>\n",
              "      <script>// Copyright 2017 Google LLC\n",
              "//\n",
              "// Licensed under the Apache License, Version 2.0 (the \"License\");\n",
              "// you may not use this file except in compliance with the License.\n",
              "// You may obtain a copy of the License at\n",
              "//\n",
              "//      http://www.apache.org/licenses/LICENSE-2.0\n",
              "//\n",
              "// Unless required by applicable law or agreed to in writing, software\n",
              "// distributed under the License is distributed on an \"AS IS\" BASIS,\n",
              "// WITHOUT WARRANTIES OR CONDITIONS OF ANY KIND, either express or implied.\n",
              "// See the License for the specific language governing permissions and\n",
              "// limitations under the License.\n",
              "\n",
              "/**\n",
              " * @fileoverview Helpers for google.colab Python module.\n",
              " */\n",
              "(function(scope) {\n",
              "function span(text, styleAttributes = {}) {\n",
              "  const element = document.createElement('span');\n",
              "  element.textContent = text;\n",
              "  for (const key of Object.keys(styleAttributes)) {\n",
              "    element.style[key] = styleAttributes[key];\n",
              "  }\n",
              "  return element;\n",
              "}\n",
              "\n",
              "// Max number of bytes which will be uploaded at a time.\n",
              "const MAX_PAYLOAD_SIZE = 100 * 1024;\n",
              "\n",
              "function _uploadFiles(inputId, outputId) {\n",
              "  const steps = uploadFilesStep(inputId, outputId);\n",
              "  const outputElement = document.getElementById(outputId);\n",
              "  // Cache steps on the outputElement to make it available for the next call\n",
              "  // to uploadFilesContinue from Python.\n",
              "  outputElement.steps = steps;\n",
              "\n",
              "  return _uploadFilesContinue(outputId);\n",
              "}\n",
              "\n",
              "// This is roughly an async generator (not supported in the browser yet),\n",
              "// where there are multiple asynchronous steps and the Python side is going\n",
              "// to poll for completion of each step.\n",
              "// This uses a Promise to block the python side on completion of each step,\n",
              "// then passes the result of the previous step as the input to the next step.\n",
              "function _uploadFilesContinue(outputId) {\n",
              "  const outputElement = document.getElementById(outputId);\n",
              "  const steps = outputElement.steps;\n",
              "\n",
              "  const next = steps.next(outputElement.lastPromiseValue);\n",
              "  return Promise.resolve(next.value.promise).then((value) => {\n",
              "    // Cache the last promise value to make it available to the next\n",
              "    // step of the generator.\n",
              "    outputElement.lastPromiseValue = value;\n",
              "    return next.value.response;\n",
              "  });\n",
              "}\n",
              "\n",
              "/**\n",
              " * Generator function which is called between each async step of the upload\n",
              " * process.\n",
              " * @param {string} inputId Element ID of the input file picker element.\n",
              " * @param {string} outputId Element ID of the output display.\n",
              " * @return {!Iterable<!Object>} Iterable of next steps.\n",
              " */\n",
              "function* uploadFilesStep(inputId, outputId) {\n",
              "  const inputElement = document.getElementById(inputId);\n",
              "  inputElement.disabled = false;\n",
              "\n",
              "  const outputElement = document.getElementById(outputId);\n",
              "  outputElement.innerHTML = '';\n",
              "\n",
              "  const pickedPromise = new Promise((resolve) => {\n",
              "    inputElement.addEventListener('change', (e) => {\n",
              "      resolve(e.target.files);\n",
              "    });\n",
              "  });\n",
              "\n",
              "  const cancel = document.createElement('button');\n",
              "  inputElement.parentElement.appendChild(cancel);\n",
              "  cancel.textContent = 'Cancel upload';\n",
              "  const cancelPromise = new Promise((resolve) => {\n",
              "    cancel.onclick = () => {\n",
              "      resolve(null);\n",
              "    };\n",
              "  });\n",
              "\n",
              "  // Wait for the user to pick the files.\n",
              "  const files = yield {\n",
              "    promise: Promise.race([pickedPromise, cancelPromise]),\n",
              "    response: {\n",
              "      action: 'starting',\n",
              "    }\n",
              "  };\n",
              "\n",
              "  cancel.remove();\n",
              "\n",
              "  // Disable the input element since further picks are not allowed.\n",
              "  inputElement.disabled = true;\n",
              "\n",
              "  if (!files) {\n",
              "    return {\n",
              "      response: {\n",
              "        action: 'complete',\n",
              "      }\n",
              "    };\n",
              "  }\n",
              "\n",
              "  for (const file of files) {\n",
              "    const li = document.createElement('li');\n",
              "    li.append(span(file.name, {fontWeight: 'bold'}));\n",
              "    li.append(span(\n",
              "        `(${file.type || 'n/a'}) - ${file.size} bytes, ` +\n",
              "        `last modified: ${\n",
              "            file.lastModifiedDate ? file.lastModifiedDate.toLocaleDateString() :\n",
              "                                    'n/a'} - `));\n",
              "    const percent = span('0% done');\n",
              "    li.appendChild(percent);\n",
              "\n",
              "    outputElement.appendChild(li);\n",
              "\n",
              "    const fileDataPromise = new Promise((resolve) => {\n",
              "      const reader = new FileReader();\n",
              "      reader.onload = (e) => {\n",
              "        resolve(e.target.result);\n",
              "      };\n",
              "      reader.readAsArrayBuffer(file);\n",
              "    });\n",
              "    // Wait for the data to be ready.\n",
              "    let fileData = yield {\n",
              "      promise: fileDataPromise,\n",
              "      response: {\n",
              "        action: 'continue',\n",
              "      }\n",
              "    };\n",
              "\n",
              "    // Use a chunked sending to avoid message size limits. See b/62115660.\n",
              "    let position = 0;\n",
              "    do {\n",
              "      const length = Math.min(fileData.byteLength - position, MAX_PAYLOAD_SIZE);\n",
              "      const chunk = new Uint8Array(fileData, position, length);\n",
              "      position += length;\n",
              "\n",
              "      const base64 = btoa(String.fromCharCode.apply(null, chunk));\n",
              "      yield {\n",
              "        response: {\n",
              "          action: 'append',\n",
              "          file: file.name,\n",
              "          data: base64,\n",
              "        },\n",
              "      };\n",
              "\n",
              "      let percentDone = fileData.byteLength === 0 ?\n",
              "          100 :\n",
              "          Math.round((position / fileData.byteLength) * 100);\n",
              "      percent.textContent = `${percentDone}% done`;\n",
              "\n",
              "    } while (position < fileData.byteLength);\n",
              "  }\n",
              "\n",
              "  // All done.\n",
              "  yield {\n",
              "    response: {\n",
              "      action: 'complete',\n",
              "    }\n",
              "  };\n",
              "}\n",
              "\n",
              "scope.google = scope.google || {};\n",
              "scope.google.colab = scope.google.colab || {};\n",
              "scope.google.colab._files = {\n",
              "  _uploadFiles,\n",
              "  _uploadFilesContinue,\n",
              "};\n",
              "})(self);\n",
              "</script> "
            ]
          },
          "metadata": {}
        },
        {
          "output_type": "stream",
          "name": "stdout",
          "text": [
            "Saving Dados - NASA Exoplanet Archive.xlsm to Dados - NASA Exoplanet Archive (2).xlsm\n"
          ]
        }
      ]
    },
    {
      "cell_type": "code",
      "source": [
        "# Verificar se o arquivo foi carregado corretamente\n",
        "file_path = next(iter(uploaded))  # Obter o nome do arquivo carregado"
      ],
      "metadata": {
        "id": "woZ0O9da1k6o"
      },
      "execution_count": null,
      "outputs": []
    },
    {
      "cell_type": "code",
      "source": [
        "# Ler o arquivo .xlsm considerando a primeira linha como cabeçalho\n",
        "df = pd.read_excel(file_path, sheet_name=None)"
      ],
      "metadata": {
        "id": "Ejzn_mYR1nft"
      },
      "execution_count": null,
      "outputs": []
    },
    {
      "cell_type": "code",
      "source": [
        "# Verificar as planilhas disponíveis\n",
        "print(\"Planilhas disponíveis:\")\n",
        "print(df.keys())"
      ],
      "metadata": {
        "colab": {
          "base_uri": "https://localhost:8080/"
        },
        "id": "uDpK0P5J1slV",
        "outputId": "c554aa4e-7b18-448e-a3d3-406e5bcaa7da"
      },
      "execution_count": null,
      "outputs": [
        {
          "output_type": "stream",
          "name": "stdout",
          "text": [
            "Planilhas disponíveis:\n",
            "dict_keys(['q1_q17_dr25_koi_2024.09.08_05.4'])\n"
          ]
        }
      ]
    },
    {
      "cell_type": "code",
      "source": [
        "# Carregar os dados dessa planilha\n",
        "df = df[list(df.keys())[0]]"
      ],
      "metadata": {
        "id": "RR08FdnC1tjH"
      },
      "execution_count": null,
      "outputs": []
    },
    {
      "cell_type": "code",
      "source": [
        "# Mostrar as primeiras linhas da tabela para verificar o carregamento\n",
        "print(\"Primeiras linhas da tabela:\")\n",
        "print(df.head())"
      ],
      "metadata": {
        "colab": {
          "base_uri": "https://localhost:8080/"
        },
        "id": "H2rnTMUt1wZV",
        "outputId": "b3a27c90-6dfb-4060-c9c8-3be96f291418"
      },
      "execution_count": null,
      "outputs": [
        {
          "output_type": "stream",
          "name": "stdout",
          "text": [
            "Primeiras linhas da tabela:\n",
            "      kepid kepoi_name    kepler_name koi_disposition koi_pdisposition  \\\n",
            "0  11446443  K00001.01     Kepler-1 b       CONFIRMED        CANDIDATE   \n",
            "1  10666592  K00002.01     Kepler-2 b       CONFIRMED        CANDIDATE   \n",
            "2  10748390  K00003.01     Kepler-3 b       CONFIRMED        CANDIDATE   \n",
            "3   3861595  K00004.01  Kepler-1658 b       CONFIRMED        CANDIDATE   \n",
            "4   8554498  K00005.01            NaN       CANDIDATE        CANDIDATE   \n",
            "\n",
            "   koi_score  koi_fpflag_nt  koi_fpflag_ss  koi_fpflag_co  koi_fpflag_ec  ...  \\\n",
            "0      0.811              0              0              0              0  ...   \n",
            "1  10000.000              0              1              0              0  ...   \n",
            "2      0.913              0              0              0              0  ...   \n",
            "3  10000.000              0              1              0              0  ...   \n",
            "4  10000.000              0              0              0              0  ...   \n",
            "\n",
            "   koi_steff_err2  koi_slogg  koi_slogg_err1  koi_slogg_err2   koi_srad  \\\n",
            "0           -78.0     4457.0           0.024          -0.024      0.964   \n",
            "1           -89.0     4019.0           0.033          -0.027  19520.000   \n",
            "2           -95.0     4591.0           0.015          -0.036      0.763   \n",
            "3          -114.0     3657.0           0.270          -0.090  29920.000   \n",
            "4           -65.0     4012.0           0.030          -0.030  17870.000   \n",
            "\n",
            "   koi_srad_err1  koi_srad_err2         ra       dec  koi_kepmag  \n",
            "0          0.038         -0.038  286808470  49316399     11338.0  \n",
            "1          0.099         -0.110  292247280  47969521     10463.0  \n",
            "2          0.028         -0.028  297709350  48080853      9174.0  \n",
            "3          0.416         -0.971  294356540  38947380     11432.0  \n",
            "4          0.132         -0.076  289739720  44647419     11665.0  \n",
            "\n",
            "[5 rows x 49 columns]\n"
          ]
        }
      ]
    },
    {
      "cell_type": "code",
      "source": [
        "# Verificar se os nomes das colunas estão corretos\n",
        "print(\"Nomes das colunas:\")\n",
        "print(df.columns)"
      ],
      "metadata": {
        "colab": {
          "base_uri": "https://localhost:8080/"
        },
        "id": "b3qrvctI1zRO",
        "outputId": "442fe25e-854c-4589-d5e0-c36ca697aea6"
      },
      "execution_count": null,
      "outputs": [
        {
          "output_type": "stream",
          "name": "stdout",
          "text": [
            "Nomes das colunas:\n",
            "Index(['kepid', 'kepoi_name', 'kepler_name', 'koi_disposition',\n",
            "       'koi_pdisposition', 'koi_score', 'koi_fpflag_nt', 'koi_fpflag_ss',\n",
            "       'koi_fpflag_co', 'koi_fpflag_ec', 'koi_period', 'koi_period_err1',\n",
            "       'koi_period_err2', 'koi_time0bk', 'koi_time0bk_err1',\n",
            "       'koi_time0bk_err2', 'koi_impact', 'koi_impact_err1', 'koi_impact_err2',\n",
            "       'koi_duration', 'koi_duration_err1', 'koi_duration_err2', 'koi_depth',\n",
            "       'koi_depth_err1', 'koi_depth_err2', 'koi_prad', 'koi_prad_err1',\n",
            "       'koi_prad_err2', 'koi_teq', 'koi_teq_err1', 'koi_teq_err2', 'koi_insol',\n",
            "       'koi_insol_err1', 'koi_insol_err2', 'koi_model_snr', 'koi_tce_plnt_num',\n",
            "       'koi_tce_delivname', 'koi_steff', 'koi_steff_err1', 'koi_steff_err2',\n",
            "       'koi_slogg', 'koi_slogg_err1', 'koi_slogg_err2', 'koi_srad',\n",
            "       'koi_srad_err1', 'koi_srad_err2', 'ra', 'dec', 'koi_kepmag'],\n",
            "      dtype='object')\n"
          ]
        }
      ]
    },
    {
      "cell_type": "code",
      "source": [
        "# Confirmar que as colunas necessárias existem\n",
        "required_columns = ['koi_teq', 'koi_insol']\n",
        "if not all(col in df.columns for col in required_columns):\n",
        "    raise ValueError(f\"As colunas necessárias {required_columns} não foram encontradas.\")\n"
      ],
      "metadata": {
        "id": "I6DOunfq2vGR"
      },
      "execution_count": null,
      "outputs": []
    },
    {
      "cell_type": "code",
      "source": [
        "# Verificar tipos de dados das colunas\n",
        "print(\"Tipos de dados das colunas:\")\n",
        "print(df.dtypes)"
      ],
      "metadata": {
        "colab": {
          "base_uri": "https://localhost:8080/"
        },
        "id": "09oSpk3F2zb1",
        "outputId": "5e5fb131-eb7a-4509-d3cd-fcf85f3ffa28"
      },
      "execution_count": null,
      "outputs": [
        {
          "output_type": "stream",
          "name": "stdout",
          "text": [
            "Tipos de dados das colunas:\n",
            "kepid                  int64\n",
            "kepoi_name            object\n",
            "kepler_name           object\n",
            "koi_disposition       object\n",
            "koi_pdisposition      object\n",
            "koi_score            float64\n",
            "koi_fpflag_nt          int64\n",
            "koi_fpflag_ss          int64\n",
            "koi_fpflag_co          int64\n",
            "koi_fpflag_ec          int64\n",
            "koi_period           float64\n",
            "koi_period_err1      float64\n",
            "koi_period_err2      float64\n",
            "koi_time0bk            int64\n",
            "koi_time0bk_err1     float64\n",
            "koi_time0bk_err2     float64\n",
            "koi_impact           float64\n",
            "koi_impact_err1      float64\n",
            "koi_impact_err2      float64\n",
            "koi_duration         float64\n",
            "koi_duration_err1    float64\n",
            "koi_duration_err2    float64\n",
            "koi_depth            float64\n",
            "koi_depth_err1       float64\n",
            "koi_depth_err2       float64\n",
            "koi_prad             float64\n",
            "koi_prad_err1        float64\n",
            "koi_prad_err2        float64\n",
            "koi_teq              float64\n",
            "koi_teq_err1         float64\n",
            "koi_teq_err2         float64\n",
            "koi_insol            float64\n",
            "koi_insol_err1       float64\n",
            "koi_insol_err2       float64\n",
            "koi_model_snr        float64\n",
            "koi_tce_plnt_num       int64\n",
            "koi_tce_delivname     object\n",
            "koi_steff            float64\n",
            "koi_steff_err1       float64\n",
            "koi_steff_err2       float64\n",
            "koi_slogg            float64\n",
            "koi_slogg_err1       float64\n",
            "koi_slogg_err2       float64\n",
            "koi_srad             float64\n",
            "koi_srad_err1        float64\n",
            "koi_srad_err2        float64\n",
            "ra                     int64\n",
            "dec                    int64\n",
            "koi_kepmag           float64\n",
            "dtype: object\n"
          ]
        }
      ]
    },
    {
      "cell_type": "code",
      "source": [
        "\n",
        "# Converter colunas para numérico, forçando erros para NaN\n",
        "df[required_columns] = df[required_columns].apply(pd.to_numeric, errors='coerce')"
      ],
      "metadata": {
        "id": "_oW6kZwF22X9"
      },
      "execution_count": null,
      "outputs": []
    },
    {
      "cell_type": "code",
      "source": [
        "# Verificar se há valores ausentes após conversão\n",
        "print(\"Valores ausentes por coluna após conversão:\")\n",
        "print(df.isnull().sum())"
      ],
      "metadata": {
        "colab": {
          "base_uri": "https://localhost:8080/"
        },
        "id": "en07PHH_26Tc",
        "outputId": "02b25f87-aa45-41c3-f398-0842938d3e12"
      },
      "execution_count": null,
      "outputs": [
        {
          "output_type": "stream",
          "name": "stdout",
          "text": [
            "Valores ausentes por coluna após conversão:\n",
            "kepid                   0\n",
            "kepoi_name              0\n",
            "kepler_name          5326\n",
            "koi_disposition         0\n",
            "koi_pdisposition        0\n",
            "koi_score               0\n",
            "koi_fpflag_nt           0\n",
            "koi_fpflag_ss           0\n",
            "koi_fpflag_co           0\n",
            "koi_fpflag_ec           0\n",
            "koi_period              0\n",
            "koi_period_err1       150\n",
            "koi_period_err2       150\n",
            "koi_time0bk             0\n",
            "koi_time0bk_err1      150\n",
            "koi_time0bk_err2      150\n",
            "koi_impact             59\n",
            "koi_impact_err1       150\n",
            "koi_impact_err2       150\n",
            "koi_duration            0\n",
            "koi_duration_err1     150\n",
            "koi_duration_err2     150\n",
            "koi_depth              59\n",
            "koi_depth_err1        150\n",
            "koi_depth_err2        150\n",
            "koi_prad               59\n",
            "koi_prad_err1          59\n",
            "koi_prad_err2          59\n",
            "koi_teq                59\n",
            "koi_teq_err1         8054\n",
            "koi_teq_err2         8054\n",
            "koi_insol              59\n",
            "koi_insol_err1         59\n",
            "koi_insol_err2         59\n",
            "koi_model_snr          59\n",
            "koi_tce_plnt_num        0\n",
            "koi_tce_delivname       0\n",
            "koi_steff              59\n",
            "koi_steff_err1        147\n",
            "koi_steff_err2        162\n",
            "koi_slogg              59\n",
            "koi_slogg_err1        147\n",
            "koi_slogg_err2        147\n",
            "koi_srad               59\n",
            "koi_srad_err1         147\n",
            "koi_srad_err2         147\n",
            "ra                      0\n",
            "dec                     0\n",
            "koi_kepmag              1\n",
            "dtype: int64\n"
          ]
        }
      ]
    },
    {
      "cell_type": "code",
      "source": [
        "# Remover valores ausentes\n",
        "df.dropna(subset=required_columns, inplace=True)"
      ],
      "metadata": {
        "id": "AYbeWVAv286E"
      },
      "execution_count": null,
      "outputs": []
    },
    {
      "cell_type": "code",
      "source": [
        "# Verificar se ainda há dados para normalizar\n",
        "if df.empty:\n",
        "    raise ValueError(\"O DataFrame está vazio após a remoção de valores ausentes. Verifique seus dados.\")\n"
      ],
      "metadata": {
        "id": "ubppHoIL2-pG"
      },
      "execution_count": null,
      "outputs": []
    },
    {
      "cell_type": "code",
      "source": [
        "# Normalizar dados\n",
        "scaler = StandardScaler()\n",
        "df[required_columns] = scaler.fit_transform(df[required_columns])"
      ],
      "metadata": {
        "id": "VvSZZJpp3QNg"
      },
      "execution_count": null,
      "outputs": []
    },
    {
      "cell_type": "code",
      "source": [
        "# Gráfico de dispersão\n",
        "sns.scatterplot(x='koi_teq', y='koi_insol', data=df)\n",
        "plt.xlabel('Temperatura Efetiva (K)')\n",
        "plt.ylabel('Insolação')\n",
        "plt.title('Relação entre Temperatura Efetiva e Insolação')\n",
        "plt.show()"
      ],
      "metadata": {
        "colab": {
          "base_uri": "https://localhost:8080/",
          "height": 472
        },
        "id": "xSxMWAVc3nNF",
        "outputId": "fdf4f3a6-a61d-4774-d34b-bf9d870455c7"
      },
      "execution_count": null,
      "outputs": [
        {
          "output_type": "display_data",
          "data": {
            "text/plain": [
              "<Figure size 640x480 with 1 Axes>"
            ],
            "image/png": "[encoded data removed]"
          },
          "metadata": {}
        }
      ]
    },
    {
      "cell_type": "code",
      "source": [
        "# Cálculo do coeficiente de correlação\n",
        "correlation = df[['koi_teq', 'koi_insol']].corr().iloc[0, 1]\n",
        "print(f'Coeficiente de Correlação: {correlation}')"
      ],
      "metadata": {
        "colab": {
          "base_uri": "https://localhost:8080/"
        },
        "id": "Oz5ftnG24u30",
        "outputId": "16cabb89-de54-49b2-c97a-368cf9e8ed85"
      },
      "execution_count": null,
      "outputs": [
        {
          "output_type": "stream",
          "name": "stdout",
          "text": [
            "Coeficiente de Correlação: 0.43102513233655226\n"
          ]
        }
      ]
    },
    {
      "cell_type": "code",
      "source": [
        "from sklearn.model_selection import train_test_split\n",
        "from sklearn.linear_model import LinearRegression\n",
        "from sklearn.metrics import mean_squared_error, r2_score"
      ],
      "metadata": {
        "id": "jjiGuy9W4xPE"
      },
      "execution_count": null,
      "outputs": []
    },
    {
      "cell_type": "code",
      "source": [
        "# Dividir dados em treino e teste\n",
        "X = df[['koi_teq']]\n",
        "y = df['koi_insol']\n",
        "X_train, X_test, y_train, y_test = train_test_split(X, y, test_size=0.2, random_state=42)\n"
      ],
      "metadata": {
        "id": "o9k0A7yL4yeF"
      },
      "execution_count": null,
      "outputs": []
    },
    {
      "cell_type": "code",
      "source": [
        "# Implementar o modelo de regressão linear\n",
        "model = LinearRegression()\n",
        "model.fit(X_train, y_train)"
      ],
      "metadata": {
        "colab": {
          "base_uri": "https://localhost:8080/",
          "height": 74
        },
        "id": "KtEPe99o42T0",
        "outputId": "f855d2f7-a10c-4c59-cf5d-521c057fc02b"
      },
      "execution_count": null,
      "outputs": [
        {
          "output_type": "execute_result",
          "data": {
            "text/plain": [
              "LinearRegression()"
            ],
            "text/html": [
              "<style>#sk-container-id-1 {color: black;}#sk-container-id-1 pre{padding: 0;}#sk-container-id-1 div.sk-toggleable {background-color: white;}#sk-container-id-1 label.sk-toggleable__label {cursor: pointer;display: block;width: 100%;margin-bottom: 0;padding: 0.3em;box-sizing: border-box;text-align: center;}#sk-container-id-1 label.sk-toggleable__label-arrow:before {content: \"▸\";float: left;margin-right: 0.25em;color: #696969;}#sk-container-id-1 label.sk-toggleable__label-arrow:hover:before {color: black;}#sk-container-id-1 div.sk-estimator:hover label.sk-toggleable__label-arrow:before {color: black;}#sk-container-id-1 div.sk-toggleable__content {max-height: 0;max-width: 0;overflow: hidden;text-align: left;background-color: #f0f8ff;}#sk-container-id-1 div.sk-toggleable__content pre {margin: 0.2em;color: black;border-radius: 0.25em;background-color: #f0f8ff;}#sk-container-id-1 input.sk-toggleable__control:checked~div.sk-toggleable__content {max-height: 200px;max-width: 100%;overflow: auto;}#sk-container-id-1 input.sk-toggleable__control:checked~label.sk-toggleable__label-arrow:before {content: \"▾\";}#sk-container-id-1 div.sk-estimator input.sk-toggleable__control:checked~label.sk-toggleable__label {background-color: #d4ebff;}#sk-container-id-1 div.sk-label input.sk-toggleable__control:checked~label.sk-toggleable__label {background-color: #d4ebff;}#sk-container-id-1 input.sk-hidden--visually {border: 0;clip: rect(1px 1px 1px 1px);clip: rect(1px, 1px, 1px, 1px);height: 1px;margin: -1px;overflow: hidden;padding: 0;position: absolute;width: 1px;}#sk-container-id-1 div.sk-estimator {font-family: monospace;background-color: #f0f8ff;border: 1px dotted black;border-radius: 0.25em;box-sizing: border-box;margin-bottom: 0.5em;}#sk-container-id-1 div.sk-estimator:hover {background-color: #d4ebff;}#sk-container-id-1 div.sk-parallel-item::after {content: \"\";width: 100%;border-bottom: 1px solid gray;flex-grow: 1;}#sk-container-id-1 div.sk-label:hover label.sk-toggleable__label {background-color: #d4ebff;}#sk-container-id-1 div.sk-serial::before {content: \"\";position: absolute;border-left: 1px solid gray;box-sizing: border-box;top: 0;bottom: 0;left: 50%;z-index: 0;}#sk-container-id-1 div.sk-serial {display: flex;flex-direction: column;align-items: center;background-color: white;padding-right: 0.2em;padding-left: 0.2em;position: relative;}#sk-container-id-1 div.sk-item {position: relative;z-index: 1;}#sk-container-id-1 div.sk-parallel {display: flex;align-items: stretch;justify-content: center;background-color: white;position: relative;}#sk-container-id-1 div.sk-item::before, #sk-container-id-1 div.sk-parallel-item::before {content: \"\";position: absolute;border-left: 1px solid gray;box-sizing: border-box;top: 0;bottom: 0;left: 50%;z-index: -1;}#sk-container-id-1 div.sk-parallel-item {display: flex;flex-direction: column;z-index: 1;position: relative;background-color: white;}#sk-container-id-1 div.sk-parallel-item:first-child::after {align-self: flex-end;width: 50%;}#sk-container-id-1 div.sk-parallel-item:last-child::after {align-self: flex-start;width: 50%;}#sk-container-id-1 div.sk-parallel-item:only-child::after {width: 0;}#sk-container-id-1 div.sk-dashed-wrapped {border: 1px dashed gray;margin: 0 0.4em 0.5em 0.4em;box-sizing: border-box;padding-bottom: 0.4em;background-color: white;}#sk-container-id-1 div.sk-label label {font-family: monospace;font-weight: bold;display: inline-block;line-height: 1.2em;}#sk-container-id-1 div.sk-label-container {text-align: center;}#sk-container-id-1 div.sk-container {/* jupyter's `normalize.less` sets `[hidden] { display: none; }` but bootstrap.min.css set `[hidden] { display: none !important; }` so we also need the `!important` here to be able to override the default hidden behavior on the sphinx rendered scikit-learn.org. See: https://github.com/scikit-learn/scikit-learn/issues/21755 */display: inline-block !important;position: relative;}#sk-container-id-1 div.sk-text-repr-fallback {display: none;}</style><div id=\"sk-container-id-1\" class=\"sk-top-container\"><div class=\"sk-text-repr-fallback\"><pre>LinearRegression()</pre><b>In a Jupyter environment, please rerun this cell to show the HTML representation or trust the notebook. <br />On GitHub, the HTML representation is unable to render, please try loading this page with nbviewer.org.</b></div><div class=\"sk-container\" hidden><div class=\"sk-item\"><div class=\"sk-estimator sk-toggleable\"><input class=\"sk-toggleable__control sk-hidden--visually\" id=\"sk-estimator-id-1\" type=\"checkbox\" checked><label for=\"sk-estimator-id-1\" class=\"sk-toggleable__label sk-toggleable__label-arrow\">LinearRegression</label><div class=\"sk-toggleable__content\"><pre>LinearRegression()</pre></div></div></div></div></div>"
            ]
          },
          "metadata": {},
          "execution_count": 57
        }
      ]
    },
    {
      "cell_type": "code",
      "source": [
        "# Fazer previsões\n",
        "y_pred = model.predict(X_test)"
      ],
      "metadata": {
        "id": "Vvv5Duyx43ST"
      },
      "execution_count": null,
      "outputs": []
    },
    {
      "cell_type": "code",
      "source": [
        "# Avaliar o modelo\n",
        "mse = mean_squared_error(y_test, y_pred)\n",
        "r2 = r2_score(y_test, y_pred)\n",
        "print(f'Erro Quadrático Médio (MSE): {mse}')\n",
        "print(f'Coeficiente de Determinação (R²): {r2}')"
      ],
      "metadata": {
        "colab": {
          "base_uri": "https://localhost:8080/"
        },
        "id": "DKgcAFnu4667",
        "outputId": "1336bfd4-ac4e-4cab-8ce6-168e84a6c94d"
      },
      "execution_count": null,
      "outputs": [
        {
          "output_type": "stream",
          "name": "stdout",
          "text": [
            "Erro Quadrático Médio (MSE): 0.9271660009881271\n",
            "Coeficiente de Determinação (R²): 0.1866827897241976\n"
          ]
        }
      ]
    },
    {
      "cell_type": "code",
      "source": [
        "# Plotar linha de regressão\n",
        "plt.scatter(X_test, y_test, color='blue', label='Dados Reais')\n",
        "plt.plot(X_test, y_pred, color='red', linewidth=2, label='Linha de Regressão')\n",
        "plt.xlabel('Temperatura Efetiva (K)')\n",
        "plt.ylabel('Insolação')\n",
        "plt.title('Regressão Linear entre Temperatura Efetiva e Insolação')\n",
        "plt.legend()\n",
        "plt.show()"
      ],
      "metadata": {
        "colab": {
          "base_uri": "https://localhost:8080/",
          "height": 472
        },
        "id": "LY2Hwfxy479k",
        "outputId": "beae0bc0-d655-4f57-d278-20fe200db8d3"
      },
      "execution_count": null,
      "outputs": [
        {
          "output_type": "display_data",
          "data": {
            "text/plain": [
              "<Figure size 640x480 with 1 Axes>"
            ],
            "image/png": "[encoded data removed]"
          },
          "metadata": {}
        }
      ]
    }
  ]
}